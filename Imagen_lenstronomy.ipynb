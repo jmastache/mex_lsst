{
 "cells": [
  {
   "cell_type": "code",
   "execution_count": 1,
   "id": "2836392b",
   "metadata": {},
   "outputs": [],
   "source": [
    "import numpy as np\n",
    "import matplotlib.pyplot as plt\n",
    "from lenstronomy.Util.param_util import ellipticity2phi_q\n",
    "from lenstronomy.Data.imaging_data import ImageData\n",
    "from lenstronomy.Data.psf import PSF\n",
    "#from lenstronomy.Data.coordinates import Coordinates\n",
    "from lenstronomy.ImSim.image_model import ImageModel\n",
    "from lenstronomy.LensModel.lens_model import LensModel\n",
    "from lenstronomy.LightModel.light_model import LightModel\n",
    "from lenstronomy.SimulationAPI.sim_api import SimAPI\n",
    "from lenstronomy.Plots import lens_plot"
   ]
  },
  {
   "cell_type": "code",
   "execution_count": 2,
   "id": "ee43c096",
   "metadata": {},
   "outputs": [],
   "source": [
    "background_rms = 0.05  # background noise per pixel\n",
    "exp_time = 100         # exposure time\n",
    "fwhm = 0.1             # full-width-half-maximum of the PSF\n",
    "num_pix = 100          # number of pixels per axis\n",
    "delta_pix = 0.05       # pixel size in arcseconds\n",
    "psf_type = 'GAUSSIAN'  # 'GAUSSIAN', 'PIXEL', 'NONE'\n",
    "\n",
    "# parameters of the deflector lens model\n",
    "# Lens model (Singular Isothermal Ellipsoid, SIE)\n",
    "kwargs_sie = {\n",
    "    'theta_E': 1.0,  # Einstein radius in arcseconds\n",
    "    'e1': 0.1,  # Ellipticity component 1\n",
    "    'e2': 0.1,  # Ellipticity component 2\n",
    "    'center_x': 0.0,  # X-coordinate of the lens center\n",
    "    'center_y': 0.0  # Y-coordinate of the lens center\n",
    "}\n",
    "\n",
    "# Source light model (Sersic profile)\n",
    "kwargs_sersic = {\n",
    "    'amp': 1.0,       # Amplitude of the light profile\n",
    "    'R_sersic': 0.2,  # Effective radius of the Sersic profile\n",
    "    'n_sersic': 1.0,  # Sersic index (n=1 is an exponential profile)\n",
    "    'e1': -0.1, \n",
    "    'e2': 0.1, \n",
    "    'center_x': 0.0,  # X-coordinate of the source center\n",
    "    'center_y': 0.0   # Y-coordinate of the source center\n",
    "}\n",
    "\n",
    "kwargs_sersic_lens = {\n",
    "    'amp': 16, \n",
    "    'R_sersic': 0.6, \n",
    "    'n_sersic': 2, \n",
    "    'e1': -0.1, \n",
    "    'e2': 0.1, \n",
    "    'center_x': 0.05, \n",
    "    'center_y': 0\n",
    "}\n",
    "\n",
    "\n",
    "kwargs_source = [kwargs_sersic]\n",
    "kwargs_lens = [kwargs_sie]\n",
    "kwargs_lens_light = [kwargs_sersic_lens]\n",
    "\n",
    "# Define the lens and source models\n",
    "lens_model_list = ['SIE']               \n",
    "source_model_list = ['SERSIC_ELLIPSE']  # Source light model type\n",
    "lens_light_model_list = ['SERSIC_ELLIPSE']\n",
    "\n",
    "lens_model_class = LensModel(lens_model_list)\n",
    "source_model_class = LightModel(light_model_list=source_model_list)\n",
    "lens_light_model_class = LightModel(lens_light_model_list)\n",
    "\n",
    "\n",
    "kwargs_model = {\n",
    "    'lens_model_list': lens_model_list,\n",
    "    'source_light_model_list': source_model_list\n",
    "}"
   ]
  },
  {
   "cell_type": "code",
   "execution_count": 3,
   "id": "e0e3c47e",
   "metadata": {},
   "outputs": [],
   "source": [
    "from lenstronomy.Util import util\n",
    "from lenstronomy.Data.imaging_data import ImageData\n",
    "from lenstronomy.Data.psf import PSF\n",
    "import lenstronomy.Util.image_util as image_util\n",
    "from lenstronomy.ImSim.image_model import ImageModel\n",
    "\n",
    "\n",
    "# generate the coordinate grid and image properties (we only read out the relevant lines we need)\n",
    "_, _, ra_at_xy_0, dec_at_xy_0, _, _, Mpix2coord, _ = util.make_grid_with_coordtransform(numPix=num_pix, deltapix=delta_pix, center_ra=0, center_dec=0, subgrid_res=1, inverse=False)\n",
    "\n",
    "\n",
    "kwargs_data = {'background_rms': background_rms,         # rms of background noise\n",
    "               'exposure_time': exp_time,                # exposure time (or a map per pixel)\n",
    "               'ra_at_xy_0': ra_at_xy_0,                 # RA at (0,0) pixel\n",
    "               'dec_at_xy_0': dec_at_xy_0,               # DEC at (0,0) pixel \n",
    "               'transform_pix2angle': Mpix2coord,        # matrix to translate shift in pixel in shift in relative RA/DEC (2x2 matrix). Make sure it's units are arcseconds or the angular units you want to model.\n",
    "               'image_data': np.zeros((num_pix, num_pix))  # 2d data vector, here initialized with zeros as place holders that get's overwritten once a simulated image with noise is created.\n",
    "              }\n",
    "data_class = ImageData(**kwargs_data)\n",
    "\n",
    "kwargs_psf = {\n",
    "    'psf_type': psf_type, \n",
    "    'fwhm': fwhm, \n",
    "    'pixel_size': delta_pix, \n",
    "    'truncation': 3\n",
    "}\n",
    "psf_class = PSF(**kwargs_psf)\n",
    "\n",
    "kwargs_numerics = {\n",
    "    'supersampling_factor': 1, \n",
    "    'supersampling_convolution': False}\n",
    "\n",
    "imageModel = ImageModel( \n",
    "    data_class = data_class, \n",
    "    psf_class = psf_class, \n",
    "    lens_model_class = lens_model_class,                     \n",
    "    source_model_class = source_model_class, \n",
    "    lens_light_model_class = lens_light_model_class,\n",
    "    kwargs_numerics = kwargs_numerics\n",
    ")\n",
    "\n",
    "image_model = imageModel.image(kwargs_lens, kwargs_source, kwargs_lens_light=kwargs_lens_light, kwargs_ps=None)\n",
    "\n"
   ]
  },
  {
   "cell_type": "code",
   "execution_count": 4,
   "id": "20a6265a",
   "metadata": {},
   "outputs": [
    {
     "name": "stderr",
     "output_type": "stream",
     "text": [
      "/var/folders/bn/sb0tt86947905bxwkyc0177r0000gn/T/ipykernel_23031/3971612899.py:10: MatplotlibDeprecationWarning: You are modifying the state of a globally registered colormap. This has been deprecated since 3.3 and in 3.6, you will not be able to modify a registered colormap in-place. To remove this warning, you can make a copy of the colormap first. cmap = mpl.cm.get_cmap(\"gray\").copy()\n",
      "  cmap.set_bad(color='k', alpha=1.)\n",
      "/var/folders/bn/sb0tt86947905bxwkyc0177r0000gn/T/ipykernel_23031/3971612899.py:11: MatplotlibDeprecationWarning: You are modifying the state of a globally registered colormap. This has been deprecated since 3.3 and in 3.6, you will not be able to modify a registered colormap in-place. To remove this warning, you can make a copy of the colormap first. cmap = mpl.cm.get_cmap(\"gray\").copy()\n",
      "  cmap.set_under('k')\n"
     ]
    },
    {
     "data": {
      "image/png": "[encoded data removed]",
      "text/plain": [
       "<Figure size 432x432 with 1 Axes>"
      ]
     },
     "metadata": {
      "needs_background": "light"
     },
     "output_type": "display_data"
    }
   ],
   "source": [
    "poisson = image_util.add_poisson(image_model, exp_time=exp_time)\n",
    "bkg = image_util.add_background(image_model, sigma_bkd=background_rms)\n",
    "image_real = image_model + poisson + bkg\n",
    "\n",
    "data_class.update_data(image_real)\n",
    "kwargs_data['image_data'] = image_real\n",
    "\n",
    "cmap_string = 'gray'\n",
    "cmap = plt.get_cmap(cmap_string)\n",
    "cmap.set_bad(color='k', alpha=1.)\n",
    "cmap.set_under('k')\n",
    "\n",
    "v_min = -4\n",
    "v_max = 1\n",
    "\n",
    "f, axes = plt.subplots(1, 1, figsize=(6, 6), sharex=False, sharey=False)\n",
    "\n",
    "ax = axes\n",
    "im = ax.matshow(np.log10(image_model), origin='lower', vmin=v_min, vmax=v_max, cmap=cmap, extent=[0, 1, 0, 1])\n",
    "ax.get_xaxis().set_visible(False)\n",
    "ax.get_yaxis().set_visible(False)\n",
    "ax.autoscale(False)\n",
    "\n",
    "plt.show()"
   ]
  },
  {
   "cell_type": "code",
   "execution_count": null,
   "id": "789a7171",
   "metadata": {},
   "outputs": [],
   "source": []
  }
 ],
 "metadata": {
  "kernelspec": {
   "display_name": "Python 3 (ipykernel)",
   "language": "python",
   "name": "python3"
  },
  "language_info": {
   "codemirror_mode": {
    "name": "ipython",
    "version": 3
   },
   "file_extension": ".py",
   "mimetype": "text/x-python",
   "name": "python",
   "nbconvert_exporter": "python",
   "pygments_lexer": "ipython3",
   "version": "3.9.6"
  },
  "latex_envs": {
   "LaTeX_envs_menu_present": true,
   "autoclose": true,
   "autocomplete": true,
   "bibliofile": "biblio.bib",
   "cite_by": "apalike",
   "current_citInitial": 1,
   "eqLabelWithNumbers": true,
   "eqNumInitial": 1,
   "hotkeys": {
    "equation": "Ctrl-E",
    "itemize": "Ctrl-I"
   },
   "labels_anchors": false,
   "latex_user_defs": false,
   "report_style_numbering": false,
   "user_envs_cfg": false
  }
 },
 "nbformat": 4,
 "nbformat_minor": 5
}
